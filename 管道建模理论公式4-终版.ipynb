{
 "cells": [
  {
   "cell_type": "markdown",
   "metadata": {},
   "source": [
    "# 管网水利计算模型（过程+图形展示）"
   ]
  },
  {
   "cell_type": "markdown",
   "metadata": {},
   "source": [
    " 计算用示意图\n",
    " 其中1号节点为定压点\n",
    " ![供热系统仿真图](./供热系统-仿真图.png)  "
   ]
  },
  {
   "cell_type": "markdown",
   "metadata": {},
   "source": [
    "$$ 这种绝对路径图片引用不成功：![供热系统仿真图](file:///C:/Users/HUAWEI/Documents/Heatig/供热系统-仿真图.png)$$\n",
    "$$ 这种相对路径的图片引用成功了：![供热系统仿真图](./供热系统-仿真图.png)$$"
   ]
  },
  {
   "cell_type": "markdown",
   "metadata": {},
   "source": [
    "# 管道总压力损失\n",
    "\n",
    "$$ P_z  = P_y + P_j $$\n",
    "    \n",
    "式中: \n",
    "   * $ P_z -- 管段总压降，  Pa$\n",
    "   * $ P_y -- 管段沿程阻力，  Pa$   \n",
    "   * $ P_j -- 管段局部，  Pa$\n",
    "\n",
    "## 沿程阻力\n",
    "$$ P_y  = R_m \\cdot l $$\n",
    "\n",
    "式中: \n",
    "   * $ R_m -- 管道单位长度摩擦阻力，简称比模阻，Pa/m $  \n",
    "   * $ l -- 管道长度，  m$   \n",
    "### 比摩阻计算公式\n",
    "\n",
    "$$ R_m = \\frac{\\lambda}{d} \\cdot \\frac{\\rho v^{2}}{2}  $$\n",
    "\n",
    "式中: \n",
    "   * $ \\lambda -- 管道摩擦阻力系数 $  \n",
    "   * $ d -- 管道内径，  m$ \n",
    "   * $ \\rho -- 热媒密度， kg/m^3 $  \n",
    "   * $ v -- 管道内流体的流速，  m/s$ \n",
    "\n",
    "在供热管网水流量 G 已知的情况下，比摩阻 $R_m$还可以利用下式计算：\n",
    "$$ R_m =6.25 \\times 10^{-2}\\cdot \\frac{\\lambda G^2_t}{\\rho d^5} $$\n",
    "\n",
    "式中: \n",
    "   * $ G_t -- 管道水流量， t/h $  \n",
    "   * $ \\lambda -- 管道摩擦阻力系数 $ \n",
    "   * $ d -- 管道内径，  m$ \n",
    "   * $ \\rho -- 热媒密度， kg/m^3 $  \n",
    "  \n",
    "\n",
    "### 摩擦阻力系数\n",
    "\n",
    "$ 根据流体力学知识，\\lambda是管流雷诺数（Re）和相对粗糙度（\\frac{K}{d}）的函数$\n",
    " * $ 其中 K 为管道材料的绝对粗糙度，d 为管段的直径或当量直径，单位：m$ \n",
    " \n",
    " \n",
    "摩擦阻力系数$ \\lambda$ 的公式与流态有关，虽然室内热水采暖管网和给水管网流动几乎处于紊流过渡区，然而，对于室外热水管网，管径一般在 40mm 以上， 流速较快，一般大于0.5m/s，因此其流动状态大多处于阻力平方区，则管道阻力系数可采用希弗林逊推荐公式\n",
    "$$ \\lambda = 0.11\\cdot\\left(\\frac{K}{d}\\right)^{0.25}   $$\n",
    "管段的当量绝对粗糙度是与管段的内壁的情况有关，主要是水垢积淀，腐蚀生锈等，对于室外热水管网，K 一般取值为 0.5mm  \n",
    "\n",
    "### 整理\n",
    "$$ P_y  = 6.88 \\times 10^{-3}\\cdot \\frac{K^{0.25}l}{d^{5.25}\\rho }G^2_t $$\n",
    "\n",
    "## 局部阻力\n",
    "$$ P_j  =  \\sum\\xi \\frac{\\rho v^2}{2}$$\n",
    "式中: \n",
    "   * $ \\sum\\xi  -- 管段中总的局部阻力系数 $  \n",
    "\n",
    "在热水网路计算中，常采用当量长度法，即将管段的局部阻力损失折合成相当的沿程损失，当量长度 $l_d$通常由下式计算：\n",
    "\n",
    "$$ l_d  = 9.1\\frac{d^{1.25}}{K^{0.25}} \\sum\\xi $$\n",
    "\n",
    "在工程上，面对大型复杂的供热网络，管段较多，为例方便计算，常将局部阻力当量长度 ld按占实际管长 l 的百分比 α 来进行计算，即 :\n",
    "$$ l_d  = \\alpha l $$\n",
    "$ \\alpha $具体的数值参考城市《城市热力网设计规范》可得\n",
    "\n",
    "## 管网阻力系数\n",
    "$$  \\Delta P  = SG^2 $$\n",
    "\n",
    "式中: \n",
    "   * $ \\Delta P -- 总压降， Pa $  \n",
    "   * $ S -- 管段阻力系数， Pa/$(t/h)^2 $ $\n",
    "   * $ G -- 管段流量，  t/h$ \n",
    "\n",
    "整理以上公式所得:\n",
    "$$  S  = 6.88 \\times 10^{-3}\\cdot \\frac{K^{0.25}}{d^{5.25}\\rho }(l+l_d)= 6.88 \\times 10^{-3}\\cdot \\frac{K^{0.25}l}{d^{5.25}\\rho }(1+\\alpha)  $$\n",
    "\n",
    "管道阻力系数仅与管道本身的长度、管径、管径内壁当量绝对粗糙度及局部阻力的当量长度有关，即与管段的自身属性有关，而不随着流量的变化而改变。 \n",
    "\n",
    "### 串联管道阻力系数\n",
    "在串联管段中，串联管段的总阻力系数为各串联阻力系数之和： \n",
    "$$ S_{ch} = S_1+S_2+S_3 $$\n",
    "\n",
    "### 并联管道阻力系数\n",
    "在并联管段中，并联管段的总阻力系数 $S_b$和各管段的阻力系数 $S_i$由如下关系： \n",
    "$$ \\frac{1}{\\sqrt {S_b}}  =\\sum_{i=1}^n \\frac{1}{\\sqrt {S_i}}  $$\n",
    "各并联环路的流量比值与其在各自阻抗之间由如下关系：\n",
    "$$ Q_1:Q_2:Q_3  =\\frac{1}{\\sqrt {S_1}}: \\frac{1}{\\sqrt {S_2}}:\\frac{1}{\\sqrt {S_3}} $$\n",
    "\n",
    "# 流量的正式计算\n",
    "\n",
    "公式联立计算如下\n",
    "$$\n",
    "\\begin{cases}\n",
    "& AG = Q  \\\\\n",
    "& A^TP = \\Delta P  \\\\ \n",
    "& \\Delta P = SG_{diag}G+Z-H_p \n",
    "\\end{cases}\n",
    "$$\n",
    "\n",
    "解方程思路：\n",
    "\n",
    "1.将各节点压力作为未知量，去求解流量参数\n",
    "\n",
    "2.选定定压点作为已知参数\n",
    "\n",
    "## 构造管网的基本关联矩阵\n",
    "\n",
    "对于已知的有向图 G，有 J 个节点和 N 条分支，则各节点和分支可以用一个 J×N 阶的矩阵 $A_c(G)=（a_{ij}）_{J×N}$表示出来，$A_c(G)$就是图 G 的关联矩阵，其中：\n",
    "\n",
    "$$\n",
    "a_{ij} =\n",
    "\\begin{cases}\n",
    "1, & 表示节点i在分支j的始端  \\\\\n",
    "-1, & 表示节点i在分支j的末端  \\\\\n",
    "0, & 表示节点i不在分支j上\n",
    "\\end{cases}\n",
    "$$\n"
   ]
  },
  {
   "cell_type": "code",
   "execution_count": 39,
   "metadata": {
    "code_folding": []
   },
   "outputs": [
    {
     "name": "stdout",
     "output_type": "stream",
     "text": [
      "[(5866893.98138004, 5733787.96276007, 5401022.91621017, 4366893.98138004, 3332765.04654990, 3849829.51396497, 4366893.98138004, 4883958.44879510)]\n"
     ]
    }
   ],
   "source": [
    "import numpy as np\n",
    "import matplotlib.pyplot as plt\n",
    "import networkx as nx\n",
    "from scipy.optimize import fsolve\n",
    "from math import sin,cos\n",
    "import sympy as sym\n",
    "#构造管网的基本关联矩阵(本案例是9个节点，10个管段的官网，矩阵为9行10列的举证)\n",
    "A = np.matrix([[1,0,0,0,0,0,-1,0,0,0],\\\n",
    "    [-1,1,0,0,0,0,0,0,0,0],\\\n",
    "    [0,-1,1,0,0,0,0,0,0,0],\\\n",
    "    [0,0,-1,1,1,0,0,0,0,0],\\\n",
    "    [0,0,0,0,-1,1,0,0,0,0],\\\n",
    "    [0,0,0,0,0,-1,1,-1,0,0],\\\n",
    "    [0,0,0,0,0,0,0,1,0,-1],\\\n",
    "    [0,0,0,0,0,0,0,0,-1,1],\\\n",
    "    [0,0,0,-1,0,0,0,0,1,0]])\n",
    "B = A.T\n",
    "#关联矩阵转邻接矩阵\n",
    "Adjacency_matrix = np.zeros((9, 9))\n",
    "for i in range(10):\n",
    "    j = np.nonzero(A[:,i])\n",
    "#j的数据格式是元组\n",
    "    if A[j[0][0],i] == 1:\n",
    "        Adjacency_matrix[j[0][0],j[0][1]] = 1\n",
    "    else:\n",
    "        Adjacency_matrix[j[0][1],j[0][0]] = 1           \n",
    "Adjacency_matrix\n",
    "\n",
    "#节点流量矩阵(9行1列)\n",
    "Q = np.matrix([0,0,0,0,0,0,0,0,0]).T\n",
    "\n",
    "#各管段的阻力系数(10行10列的对角矩阵)\n",
    "def s_formula(l,d):\n",
    "    #K取值0.5mm\n",
    "    #l：管道长度，m\n",
    "    #d：管道直径，m\n",
    "    #局部阻力当量系数取 0.7\n",
    "    return  6.88 * 10**-3 * (0.5 * 10**-3)**0.25*l / (d**5.25*1000)*(1+0.7)\n",
    "#各管道长度\n",
    "l = np.array([20,20,50,100,100,100,50,100,100,100])\n",
    "#各管道直径\n",
    "d = np.array([0.4,0.4,0.4,0.3,0.3,0.3,0.4,0.3,0.3,0.3])\n",
    "S = np.mat(np.identity(10))\n",
    "for i in range(10):\n",
    "    S[i,i] = s_formula(l[i],d[i])\n",
    "    \n",
    "S_cal = S.I\n",
    "\n",
    "#水泵扬程向量\n",
    "H_p = np.matrix([30*10**5,0,0,0,0,0,0,0,0,0]).T\n",
    "#公式求解\n",
    "P_2 = sym.Symbol('P_2')\n",
    "P_3 = sym.Symbol('P_3')\n",
    "P_4 = sym.Symbol('P_4')\n",
    "P_5 = sym.Symbol('P_5')\n",
    "P_6 = sym.Symbol('P_6')\n",
    "P_7 = sym.Symbol('P_7')\n",
    "P_8 = sym.Symbol('P_8')\n",
    "P_9 = sym.Symbol('P_9')\n",
    "P = np.matrix([30*10**5,P_2,P_3,P_4,P_5,P_6,P_7,P_8,P_9]).T\n",
    "#公式计算过程量\n",
    "gg = sym.Matrix(S_cal*sym.Matrix(B*P+H_p))\n",
    "#管段流量计算结果\n",
    "# G = sym.Matrix([(gg[0,0])**0.5,(gg[1,0])**0.5,(gg[2,0])**0.5,(gg[3,0])**0.5,(gg[4,0])**0.5,(gg[5,0])**0.5,(gg[6,0])**0.5,(gg[7,0])**0.5,(gg[8,0])**0.5,(gg[9,0])**0.5])\n",
    "#上一条公式简化为如下模式\n",
    "G =sym.Matrix([gg[i,0]**0.5 for i in range(10)])\n",
    "sym.solved_value=sym.solve(sym.Matrix(A*G), [P_2,P_3,P_4,P_5,P_6,P_7,P_8,P_9])\n",
    "print(sym.solved_value)\n"
   ]
  },
  {
   "cell_type": "markdown",
   "metadata": {},
   "source": [
    "# 计算出节点压力和管段流量"
   ]
  },
  {
   "cell_type": "code",
   "execution_count": 40,
   "metadata": {},
   "outputs": [
    {
     "data": {
      "text/plain": [
       "[3000000,\n",
       " 5866893.98138004,\n",
       " 5733787.96276007,\n",
       " 5401022.91621017,\n",
       " 4366893.98138004,\n",
       " 3332765.04654990,\n",
       " 3849829.51396497,\n",
       " 4366893.98138004,\n",
       " 4883958.44879510]"
      ]
     },
     "execution_count": 40,
     "metadata": {},
     "output_type": "execute_result"
    }
   ],
   "source": [
    "# 计算节点压力\n",
    "P_result_equation = np.array(sym.solved_value)\n",
    "P_result = list([30*10**5])\n",
    "for i in range(8):\n",
    "    P_result.append(P_result_equation[0,i])\n",
    "P_result"
   ]
  },
  {
   "cell_type": "code",
   "execution_count": 41,
   "metadata": {},
   "outputs": [
    {
     "data": {
      "text/plain": [
       "[5566.74587148650,\n",
       " 5566.74587148648,\n",
       " 5566.74587148649,\n",
       " 2305.82163825414,\n",
       " 3260.92423323235,\n",
       " 3260.92423323235,\n",
       " 5566.74587148647,\n",
       " 2305.82163825414,\n",
       " 2305.82163825414,\n",
       " 2305.82163825414]"
      ]
     },
     "execution_count": 41,
     "metadata": {},
     "output_type": "execute_result"
    }
   ],
   "source": [
    "# 计算节点流量\n",
    "G_result_equation = S_cal * ((B * np.matrix(P_result).T)+H_p)\n",
    "G_result = list([])\n",
    "for i in range(10):\n",
    "    G_result.append(G_result_equation[i,0]**0.5)\n",
    "G_result"
   ]
  },
  {
   "cell_type": "markdown",
   "metadata": {},
   "source": [
    "# 生成管道图\n"
   ]
  },
  {
   "cell_type": "code",
   "execution_count": 42,
   "metadata": {},
   "outputs": [
    {
     "data": {
      "image/png": "[encoded data removed]",
      "text/plain": [
       "<Figure size 432x288 with 1 Axes>"
      ]
     },
     "metadata": {},
     "output_type": "display_data"
    }
   ],
   "source": [
    "G = nx.DiGraph()  # 建立一个空的有向图G\n",
    "for i in range(10):\n",
    "    j = np.nonzero(A[:,i])\n",
    "#j的数据格式是元组\n",
    "    if A[j[0][0],i] == 1:\n",
    "        G.add_edge(j[0][0]+1, j[0][1]+1, weight = int(np.array(G_result)[i]))\n",
    "        \n",
    "    else:\n",
    "        G.add_edge(j[0][1]+1, j[0][0]+1, weight =int(np.array(G_result)[i]))        \n",
    "# pos接收节点位置排布（字典数据结构）\n",
    "gPos = {1: np.array([0, 0]),\n",
    "        2: np.array([0, 1]),\n",
    "        3: np.array([0, 2]), \n",
    "        4: np.array([1, 2]), \n",
    "        9: np.array([2, 2]), \n",
    "        5: np.array([1, 1]), \n",
    "        6: np.array([1, 0]), \n",
    "        7: np.array([2, 0]), \n",
    "        8: np.array([2, 1])}\n",
    "\n",
    "#给定每个节点的颜色\n",
    "colors = ['r','r','r','r','y','r','r','y','y']   \n",
    "#width是设置边的宽度\n",
    "nx.draw(G, with_labels=True, font_weight='bold', pos=gPos, node_color=colors,width=3.5)\n",
    "labels = nx.get_edge_attributes(G, 'weight')\n",
    "q = nx.draw_networkx_edge_labels(G, pos=gPos, edge_labels=labels)\n",
    "plt.title(\"Topological diagram of heating pipeline\", fontsize = 20)\n",
    "# plt.figure(figsize=(120, 160))#图片尺寸还没有调整好\n",
    "#保存图片要放在plt.show()前面，不然只能保存空白图片\n",
    "plt.savefig(\"Topological diagram of heating pipeline.png\",format =\"PNG\")\n",
    "plt.show()\n"
   ]
  },
  {
   "cell_type": "markdown",
   "metadata": {
    "code_folding": []
   },
   "source": [
    "### networkx绘图的一些参数\n",
    "nx.draw()方法，至少接受一个参数：待绘制的网络G\n",
    "参数：\n",
    "\n",
    "运行样式：\n",
    "  - `node_size`:  指定节点的尺寸大小(默认是300)\n",
    "  - `node_color`:  指定节点的颜色 (默认是红色，可以用字符串简单标识颜色，例如'r'为红色，'b'为绿色等)\n",
    "  - `node_shape`:  节点的形状（默认是圆形，用字符串'o'标识）\n",
    "  - `alpha`: 透明度 (默认是1.0，不透明，0为完全透明)\n",
    "  - `width`: 边的宽度 (默认为1.0)\n",
    "  - `edge_color`: 边的颜色(默认为黑色)\n",
    "  - `style`: 边的样式(默认为实现，可选： solid|dashed|dotted,dashdot)\n",
    "  - `with_labels`: 节点是否带标签（默认为True）\n",
    "  - `font_size`: 节点标签字体大小 (默认为12)\n",
    "  - `font_color`: 节点标签字体颜色（默认为黑色）\n",
    "\n",
    "运用布局：\n",
    " circular_layout：节点在一个圆环上均匀分布\n",
    " random_layout：节点随机分布\n",
    " shell_layout：节点在同心圆上分布\n",
    " spring_layout： 用Fruchterman-Reingold算法排列节点（样子类似多中心放射状）\n",
    " spectral_layout：根据图的拉普拉斯特征向量排列节点\n",
    "\n",
    "添加文本：\n",
    "用plt.title()方法可以为图形添加一个标题，该方法接受一个字符串作为参数。\n",
    "fontsize参数用来指定标题的大小。例如：plt.title(\"BA Networks\", fontsize = 20)。\n",
    "如果要在任意位置添加文本，则可以采用plt.text()方法。"
   ]
  },
  {
   "cell_type": "code",
   "execution_count": null,
   "metadata": {},
   "outputs": [],
   "source": []
  }
 ],
 "metadata": {
  "kernelspec": {
   "display_name": "Python 3",
   "language": "python",
   "name": "python3"
  },
  "language_info": {
   "codemirror_mode": {
    "name": "ipython",
    "version": 3
   },
   "file_extension": ".py",
   "mimetype": "text/x-python",
   "name": "python",
   "nbconvert_exporter": "python",
   "pygments_lexer": "ipython3",
   "version": "3.7.2"
  },
  "toc": {
   "base_numbering": 1,
   "nav_menu": {},
   "number_sections": true,
   "sideBar": true,
   "skip_h1_title": false,
   "title_cell": "Table of Contents",
   "title_sidebar": "Contents",
   "toc_cell": false,
   "toc_position": {},
   "toc_section_display": true,
   "toc_window_display": false
  },
  "varInspector": {
   "cols": {
    "lenName": 16,
    "lenType": 16,
    "lenVar": 40
   },
   "kernels_config": {
    "python": {
     "delete_cmd_postfix": "",
     "delete_cmd_prefix": "del ",
     "library": "var_list.py",
     "varRefreshCmd": "print(var_dic_list())"
    },
    "r": {
     "delete_cmd_postfix": ") ",
     "delete_cmd_prefix": "rm(",
     "library": "var_list.r",
     "varRefreshCmd": "cat(var_dic_list()) "
    }
   },
   "types_to_exclude": [
    "module",
    "function",
    "builtin_function_or_method",
    "instance",
    "_Feature"
   ],
   "window_display": false
  }
 },
 "nbformat": 4,
 "nbformat_minor": 4
}
